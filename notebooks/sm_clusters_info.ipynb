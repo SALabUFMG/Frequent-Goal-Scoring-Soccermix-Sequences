{
 "cells": [
  {
   "cell_type": "code",
   "execution_count": 1,
   "metadata": {
    "collapsed": true
   },
   "outputs": [
    {
     "name": "stderr",
     "output_type": "stream",
     "text": [
      "Loading postgres module without psycopg2 nor pg8000 installed. Will crash at runtime if postgres functionality is used.\n",
      "Loading S3 module without the python package boto3. Will crash at runtime if S3 functionality is used.\n"
     ]
    },
    {
     "name": "stdout",
     "output_type": "stream",
     "text": [
      "Welcome to d6tflow! For Q&A see https://github.com/d6t/d6tflow\n"
     ]
    }
   ],
   "source": [
    "import numpy as np\n",
    "import pandas as pd\n",
    "import d6tflow as d6t\n",
    "from tqdm import tqdm"
   ]
  },
  {
   "cell_type": "code",
   "execution_count": 3,
   "outputs": [
    {
     "name": "stderr",
     "output_type": "stream",
     "text": [
      "C:\\Users\\Galo\\Anaconda3\\envs\\HP\\lib\\site-packages\\xgboost\\compat.py:36: FutureWarning: pandas.Int64Index is deprecated and will be removed from pandas in a future version. Use pandas.Index with the appropriate dtype instead.\n",
      "  from pandas import MultiIndex, Int64Index\n"
     ]
    }
   ],
   "source": [
    "from vaeps import predictions as pr\n",
    "from vaeps import action_values as av\n",
    "\n",
    "from soccer_mix.MixtureModels import dataprocessing as dp\n",
    "from soccer_mix.MixtureModels import categoricalmodel as cm\n",
    "from soccer_mix.MixtureModels import locationmodel as lm\n",
    "from soccer_mix.MixtureModels import directionmodel as dm\n",
    "from soccer_mix.MixtureModels import actions_clusters as ac\n",
    "from soccer_mix.MixtureModels import sequences as sms\n",
    "\n",
    "from ZoneSequences import actions_zones as az\n",
    "from ZoneSequences import zone_sequences as zs\n",
    "\n",
    "from mining import zone\n",
    "from mining import soccermix as sm"
   ],
   "metadata": {
    "collapsed": false
   }
  },
  {
   "cell_type": "code",
   "execution_count": 5,
   "outputs": [],
   "source": [
    "loc_models = lm.SelectLocationSoccerMix(competition='England').output().load()"
   ],
   "metadata": {
    "collapsed": false
   }
  },
  {
   "cell_type": "code",
   "execution_count": 11,
   "outputs": [],
   "source": [
    "loc_x = []\n",
    "loc_y = []\n",
    "for mod in loc_models:\n",
    "    if mod.name != 'receival':\n",
    "        for submod in mod.submodels:\n",
    "            loc_x.append(submod.mean[0])\n",
    "            loc_y.append(submod.mean[1])"
   ],
   "metadata": {
    "collapsed": false
   }
  },
  {
   "cell_type": "code",
   "execution_count": 9,
   "outputs": [
    {
     "data": {
      "text/plain": "96.72496921168158"
     },
     "execution_count": 9,
     "metadata": {},
     "output_type": "execute_result"
    }
   ],
   "source": [
    "loc_models[0].submodels[0].mean[0]"
   ],
   "metadata": {
    "collapsed": false
   }
  },
  {
   "cell_type": "code",
   "execution_count": 4,
   "outputs": [],
   "source": [
    "loc_weights = lm.LocationWeightsSoccerMix(competition='England').output().load()"
   ],
   "metadata": {
    "collapsed": false
   }
  },
  {
   "cell_type": "code",
   "execution_count": 10,
   "outputs": [],
   "source": [
    "receival_cols = [c for c in list(loc_weights.columns) if 'receival' in c]\n",
    "loc_weights = loc_weights.drop(receival_cols, axis=1)\n",
    "loc_weights = loc_weights[loc_weights.drop('action_id', axis=1).sum(axis=1) != 0]\n",
    "loc_cols = list(loc_weights.drop('action_id', axis=1).columns)"
   ],
   "metadata": {
    "collapsed": false
   }
  },
  {
   "cell_type": "code",
   "execution_count": 13,
   "outputs": [],
   "source": [
    "loc_clusters = pd.DataFrame(data={\n",
    "    'id': [i for i in range(1, len(loc_cols) + 1)],\n",
    "    'name': loc_cols,\n",
    "    'loc_x': loc_x,\n",
    "    'loc_y': loc_y\n",
    "})"
   ],
   "metadata": {
    "collapsed": false
   }
  },
  {
   "cell_type": "code",
   "execution_count": 15,
   "outputs": [],
   "source": [
    "loc_clusters.to_csv(path_or_buf=d6t.settings.dir + r'\\ClusterAttributesSoccerMix\\loc_clusters.csv')"
   ],
   "metadata": {
    "collapsed": false
   }
  },
  {
   "cell_type": "code",
   "execution_count": 14,
   "outputs": [],
   "source": [
    "dir_models = dm.SelectDirectionExperimentsSoccerMix(competition='England').output().load()"
   ],
   "metadata": {
    "collapsed": false
   }
  },
  {
   "cell_type": "code",
   "execution_count": 16,
   "outputs": [],
   "source": [
    "dir_weights = dm.DirectionWeightsSoccerMix(competition='England').output().load()"
   ],
   "metadata": {
    "collapsed": false
   }
  },
  {
   "cell_type": "code",
   "execution_count": 17,
   "outputs": [],
   "source": [
    "receival_cols = [c for c in list(dir_weights.columns) if 'receival' in c]\n",
    "dir_weights = dir_weights.drop(receival_cols, axis=1)\n",
    "dir_weights = dir_weights[dir_weights.drop('action_id', axis=1).sum(axis=1) != 0]\n",
    "dir_cols = list(dir_weights.drop('action_id', axis=1).columns)"
   ],
   "metadata": {
    "collapsed": false
   }
  },
  {
   "cell_type": "code",
   "execution_count": 19,
   "outputs": [],
   "source": [
    "loc_sups = [mod.split('_')[0] + '_' + mod.split('_')[1] for mod in dir_cols]"
   ],
   "metadata": {
    "collapsed": false
   }
  },
  {
   "cell_type": "code",
   "execution_count": 28,
   "outputs": [],
   "source": [
    "loc_sups = []\n",
    "for mod in dir_cols:\n",
    "    name_split = mod.split('_')\n",
    "    if name_split[0] != 'take':\n",
    "        loc_sups.append(name_split[0] + '_' + name_split[1])\n",
    "    else:\n",
    "        loc_sups.append(name_split[0] + '_' + name_split[1] + '_' + name_split[2])"
   ],
   "metadata": {
    "collapsed": false
   }
  },
  {
   "cell_type": "code",
   "execution_count": 29,
   "outputs": [],
   "source": [
    "dir_clusters = pd.DataFrame(data={\n",
    "    'id': [i for i in range(1, len(dir_cols) + 1)],\n",
    "    'name': dir_cols,\n",
    "    'loc_name': loc_sups,\n",
    "})"
   ],
   "metadata": {
    "collapsed": false
   }
  },
  {
   "cell_type": "code",
   "execution_count": 30,
   "outputs": [],
   "source": [
    "dir_clusters = dir_clusters.merge(right=loc_clusters.drop('id', axis=1).rename(columns={'name': 'loc_name'}), on='loc_name')"
   ],
   "metadata": {
    "collapsed": false
   }
  },
  {
   "cell_type": "code",
   "execution_count": 31,
   "outputs": [],
   "source": [
    "dir_clusters.to_csv(path_or_buf=d6t.settings.dir + r'\\ClusterAttributesSoccerMix\\dir_clusters.csv')"
   ],
   "metadata": {
    "collapsed": false
   }
  },
  {
   "cell_type": "code",
   "execution_count": 33,
   "outputs": [],
   "source": [
    "grid_x = [\n",
    "    10,\n",
    "    10,\n",
    "    10,\n",
    "    28.125,\n",
    "    28.125,\n",
    "    28.125,\n",
    "    28.125,\n",
    "    28.125,\n",
    "    44.375,\n",
    "    44.375,\n",
    "    44.375,\n",
    "    44.375,\n",
    "    44.375,\n",
    "    60.625,\n",
    "    60.625,\n",
    "    60.625,\n",
    "    60.625,\n",
    "    60.625,\n",
    "    76.875,\n",
    "    76.875,\n",
    "    76.875,\n",
    "    76.875,\n",
    "    76.875,\n",
    "    95,\n",
    "    95,\n",
    "    95,\n",
    "    95,\n",
    "    95\n",
    "]"
   ],
   "metadata": {
    "collapsed": false
   }
  },
  {
   "cell_type": "code",
   "execution_count": 34,
   "outputs": [],
   "source": [
    "grid_y = [\n",
    "    61,\n",
    "    34,\n",
    "    7,\n",
    "    61,\n",
    "    48.5,\n",
    "    34,\n",
    "    19.5,\n",
    "    7,\n",
    "    61,\n",
    "    48.5,\n",
    "    34,\n",
    "    19.5,\n",
    "    7,\n",
    "    61,\n",
    "    48.5,\n",
    "    34,\n",
    "    19.5,\n",
    "    7,\n",
    "    61,\n",
    "    48.5,\n",
    "    34,\n",
    "    19.5,\n",
    "    7,\n",
    "    61,\n",
    "    48.5,\n",
    "    34,\n",
    "    19.5,\n",
    "    7\n",
    "]"
   ],
   "metadata": {
    "collapsed": false
   }
  },
  {
   "cell_type": "code",
   "execution_count": 35,
   "outputs": [],
   "source": [
    "grid_cells = pd.DataFrame(data={\n",
    "    'id': [i for i in range(1, len(grid_x) + 1)],\n",
    "    'grid_x': grid_x,\n",
    "    'grid_y': grid_y\n",
    "})"
   ],
   "metadata": {
    "collapsed": false
   }
  },
  {
   "cell_type": "code",
   "execution_count": 36,
   "outputs": [],
   "source": [
    "grid_cells.to_csv(path_or_buf=d6t.settings.dir + r'\\ClusterAttributesSoccerMix\\grid_cells.csv')"
   ],
   "metadata": {
    "collapsed": false
   }
  }
 ],
 "metadata": {
  "kernelspec": {
   "display_name": "Python 3",
   "language": "python",
   "name": "python3"
  },
  "language_info": {
   "codemirror_mode": {
    "name": "ipython",
    "version": 2
   },
   "file_extension": ".py",
   "mimetype": "text/x-python",
   "name": "python",
   "nbconvert_exporter": "python",
   "pygments_lexer": "ipython2",
   "version": "2.7.6"
  }
 },
 "nbformat": 4,
 "nbformat_minor": 0
}
